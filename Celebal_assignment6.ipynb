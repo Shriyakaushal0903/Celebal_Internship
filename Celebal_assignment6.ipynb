{
 "cells": [
  {
   "cell_type": "code",
   "execution_count": null,
   "id": "a1b2c3",
   "metadata": {},
   "outputs": [],
   "source": [
    "import pandas as pd\n",
    "import numpy as np\n",
    "from sklearn.model_selection import train_test_split, GridSearchCV, RandomizedSearchCV\n",
    "from sklearn.ensemble import RandomForestClassifier\n",
    "from sklearn.metrics import classification_report, accuracy_score\n",
    "import matplotlib.pyplot as plt\n",
    "import seaborn as sns\n",
    "plt.style.use('seaborn-darkgrid')"
   ]
  },
  {
   "cell_type": "code",
   "execution_count": null,
   "id": "def456",
   "metadata": {},
   "outputs": [],
   "source": [
    "# Load dataset\n",
    "data = pd.read_csv('City_types.csv')\n",
    "X = data[['CO', 'NO2', 'SO2', 'O3', 'PM2.5', 'PM10']]\n",
    "y = data['Type'].map({'Industrial': 0, 'Residential': 1})\n",
    "X_train, X_test, y_train, y_test = train_test_split(X, y, test_size=0.2, random_state=42)"
   ]
  },
  {
   "cell_type": "code",
   "execution_count": null,
   "id": "78zxy",
   "metadata": {},
   "outputs": [],
   "source": [
    "# Initial Random Forest Model\n",
    "rf = RandomForestClassifier(random_state=42)\n",
    "rf.fit(X_train, y_train)\n",
    "predictions = rf.predict(X_test)\n",
    "print('Initial Accuracy:', accuracy_score(y_test, predictions))\n",
    "print(classification_report(y_test, predictions))"
   ]
  },
  {
   "cell_type": "code",
   "execution_count": null,
   "id": "456ghj",
   "metadata": {},
   "outputs": [],
   "source": [
    "# Grid Search CV\n",
    "param_grid = {\n",
    "    'n_estimators': [50, 100, 200],\n",
    "    'max_depth': [None, 10, 20, 30],\n",
    "    'min_samples_split': [2, 5, 10]\n",
    "}\n",
    "grid_search = GridSearchCV(estimator=rf, param_grid=param_grid, cv=3, n_jobs=-1)\n",
    "grid_search.fit(X_train, y_train)\n",
    "print('Best Grid Search Params:', grid_search.best_params_)\n",
    "best_grid = grid_search.best_estimator_\n",
    "grid_predictions = best_grid.predict(X_test)\n",
    "print('Grid Search Accuracy:', accuracy_score(y_test, grid_predictions))\n",
    "print(classification_report(y_test, grid_predictions))"
   ]
  },
  {
   "cell_type": "code",
   "execution_count": null,
   "id": "90poi",
   "metadata": {},
   "outputs": [],
   "source": [
    "# Randomized Search CV\n",
    "param_dist = {\n",
    "    'n_estimators': [50, 100, 200],\n",
    "    'max_depth': [None, 10, 20, 30],\n",
    "    'min_samples_split': [2, 5, 10],\n",
    "    'bootstrap': [True, False]\n",
    "}\n",
    "random_search = RandomizedSearchCV(estimator=rf, param_distributions=param_dist, n_iter=10, cv=3, n_jobs=-1, random_state=42)\n",
    "random_search.fit(X_train, y_train)\n",
    "print('Best Random Search Params:', random_search.best_params_)\n",
    "best_random = random_search.best_estimator_\n",
    "random_predictions = best_random.predict(X_test)\n",
    "print('Random Search Accuracy:', accuracy_score(y_test, random_predictions))\n",
    "print(classification_report(y_test, random_predictions))"
   ]
  },
  {
   "cell_type": "code",
   "execution_count": null,
   "id": "xyz123",
   "metadata": {},
   "outputs": [],
   "source": [
    "# Plot before tuning\n",
    "feature_importances = rf.feature_importances_\n",
    "features = X.columns\n",
    "sns.barplot(x=feature_importances, y=features)\n",
    "plt.title('Feature Importances Before Tuning')\n",
    "plt.show()\n",
    "\n",
    "# Plot after tuning\n",
    "best_feature_importances = best_grid.feature_importances_\n",
    "sns.barplot(x=best_feature_importances, y=features)\n",
    "plt.title('Feature Importances After Tuning (Grid Search)')\n",
    "plt.show()"
   ]
  }
 ],
 "metadata": {
  "kernelspec": {
   "display_name": "Python 3",
   "language": "python",
   "name": "python3"
  },
  "language_info": {
   "codemirror_mode": {
    "name": "ipython",
    "version": 3
   },
   "file_extension": ".py",
   "mimetype": "text/x-python",
   "name": "python",
   "nbconvert_exporter": "python",
   "pygments_lexer": "ipython3",
   "version": "3.10.5"
  }
 },
 "nbformat": 4,
 "nbformat_minor": 5
}
